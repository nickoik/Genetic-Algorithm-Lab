{
 "cells": [
  {
   "cell_type": "markdown",
   "id": "circular-spoke",
   "metadata": {},
   "source": [
    "# Genetic Algorithms Lab\n",
    "\n",
    "This notebook contains the work done by **Valentin Ringlet (i6191244)** and **Nick Oikonomou (i6201767)**.\n",
    "\n",
    "- First, we'll define a generic genetic algorithm framework.\n",
    "\n",
    "- Second, we'll implement the knapsack problem for the genetic algorithm framework.\n",
    "\n",
    "- Third, we'll implement the travelling salesman problem (TSP) for the genetic algorithm framework."
   ]
  },
  {
   "cell_type": "code",
   "execution_count": 178,
   "id": "junior-lodge",
   "metadata": {},
   "outputs": [],
   "source": [
    "# Import any needed libraries\n",
    "import numpy as np\n",
    "import matplotlib.pyplot as plt"
   ]
  },
  {
   "cell_type": "markdown",
   "id": "compact-triangle",
   "metadata": {},
   "source": [
    "## Generic genetic algorithm framework\n",
    "\n",
    "We will first implement the generic genetic algorithm framework.\n",
    "To make it as customisable as possible, the generic genetic algorithm functions rely on functions provided as parameters to the functions.\n",
    "The following subsections will provide first the generic genetic algorithm function that calls the generic functions for:\n",
    "- selection of individuals to keep in the next generation\n",
    "\n",
    "- crossover of individuals to generate new children\n",
    "\n",
    "- mutation of individuals (with a certain probability)"
   ]
  },
  {
   "cell_type": "code",
   "execution_count": null,
   "id": "criminal-happiness",
   "metadata": {},
   "outputs": [],
   "source": [
    "def generic_genetic_algo(starting_population, number_iterations, \n",
    "                         select_individual_for_next_generation_fct,                  # for selection function\n",
    "                         select_individual_for_reproduction_fct, crossover_fct,      # for crossover function\n",
    "                         mutation_proba, select_mutation_index_fct                   # for mutation function\n",
    "                        ):\n",
    "    ''' Use the functions defined above for selection, crossover, mutation to run a genetic algorithm on the given population\n",
    "    \n",
    "        params:\n",
    "    '''\n",
    "    #\n",
    "    # TODO TODO TODO TODO \n",
    "    # TODO TODO TODO TODO \n",
    "    # TODO TODO TODO TODO \n",
    "    #\n",
    "    \n",
    "    # TODO: add all specific functions as parameters to the function (e.g. select_individual_fct from selection(), or select_parent_fct from crossover())\n",
    "    \n",
    "    pass"
   ]
  },
  {
   "cell_type": "markdown",
   "id": "double-prior",
   "metadata": {},
   "source": [
    "### Selection\n",
    "\n",
    "In this section, we will define the function used for the selection of individuals from one generation to keep in the next generation."
   ]
  },
  {
   "cell_type": "code",
   "execution_count": null,
   "id": "acoustic-quarter",
   "metadata": {},
   "outputs": [],
   "source": [
    "def selection(population, select_individual_fct):\n",
    "    ''' Make a selection of individuals from the given population for the next generation.\n",
    "    \n",
    "        params:\n",
    "            population: the previous population, from which we choose individuals\n",
    "            select_individual_fct: the function that is used to select an individual to keep in the next generation\n",
    "        \n",
    "        return:\n",
    "            a new population, with individuals picked from the input population,\n",
    "                by using the provided function to select the individuals\n",
    "    '''\n",
    "    pass"
   ]
  },
  {
   "cell_type": "markdown",
   "id": "painted-mainstream",
   "metadata": {},
   "source": [
    "### Crossover\n",
    "\n",
    "In this section, we will define the function used for the crossover of individuals from a certain population to create children."
   ]
  },
  {
   "cell_type": "code",
   "execution_count": null,
   "id": "recreational-strip",
   "metadata": {},
   "outputs": [],
   "source": [
    "def crossover(population, final_size_population, select_parent_fct, crossover_single_fct):\n",
    "    ''' Make the given population have new children by crossover.\n",
    "    \n",
    "        params:\n",
    "            population: the individuals we start with\n",
    "            final_size_population: the size we want the resulting population to be\n",
    "            select_parent_fct: the function that can be used to get the individual parents\n",
    "            crossover_single_fct: the function that is used to generate a child by crossover of two parents\n",
    "        \n",
    "        return:\n",
    "            the population, with the addition of new children, to have \"final_size_population\" individuals in total.\n",
    "                parents are selected by using the provided select_parent_fct function, and \n",
    "                the crossover is performed by using the crossover_single_fct\n",
    "    '''\n",
    "    start_size_population = len(population)\n",
    "    \n",
    "    ############################### NOT SURE IF THAT IS NECESSARY ########################################\n",
    "    assert(start_size_population <= final_size_population, \"The population needs to be smaller than it should be after crossover\")\n",
    "    \n",
    "    \n",
    "    children = []\n",
    "    for i in range(final_size_population - start_size_population):\n",
    "        # Select 2 random individuals from the population\n",
    "        parent1 = select_parent_fct(population)\n",
    "        parent2 = select_parent_fct(population)\n",
    "        # Make sure that they are different\n",
    "        while (parent1 == parent2):\n",
    "            parent2 = select_parent_fct(population)\n",
    "        \n",
    "        # Use the crossover_single function to create a new child\n",
    "        child = crossover_single_fct(parent1, parent2)\n",
    "        # And add it to the population\n",
    "        children.add(child)\n",
    "    \n",
    "    # Finally, the new population is a list with the individuals from the starting population plus the children that were generated\n",
    "    return population + children"
   ]
  },
  {
   "cell_type": "markdown",
   "id": "isolated-burns",
   "metadata": {},
   "source": [
    "### Mutation\n",
    "\n",
    "In this section, we will define the function used for the mutation of individuals from a given population (with a certain mutation probability)."
   ]
  },
  {
   "cell_type": "code",
   "execution_count": null,
   "id": "visible-sharing",
   "metadata": {},
   "outputs": [],
   "source": [
    "def mutation(population, mutation_proba, select_mutation_index):     #either mutation_proba or mutation_proba_fct depending on whether we want to make the mutation proba depend on sth (e.g. the individual's fitness) or not\n",
    "    ''' Apply mutations to some individuals from the population\n",
    "    \n",
    "        params:\n",
    "            population: the starting population\n",
    "            mutation_proba: the probability of having a mutation in a certain individual \n",
    "                It should be a real value between 0 and 1.\n",
    "            select_mutation_fct: the function that selects the index of the given phenotype that \n",
    "                the mutation is performed at\n",
    "        \n",
    "        return:\n",
    "            the same population, except that some individuals might have been mutated\n",
    "    '''\n",
    "    # For each individual\n",
    "    for i in range(len(population)):\n",
    "        mutate_choice = np.random.rand()\n",
    "        \n",
    "        # if the random number is smaller than the probability of mutation \n",
    "        if mutate_choice <= mutation_proba:\n",
    "            # We apply a mutation to that individual\n",
    "            #   1. get the original phenotype of the individual\n",
    "            old_phenotype = population[i].get_phenotype()\n",
    "            \n",
    "            #   2. choose the index at which to change the phenotype\n",
    "            mutation_index = select_mutation_index(old_phenotype)\n",
    "            \n",
    "            ''' TODO TODO TODO TODO TODO TODO TODO TODO TODO '''\n",
    "            #   3. choose the new value for that index of the phenotype\n",
    "            mutation_value = \n",
    "            ''' TODO TODO TODO TODO TODO TODO TODO TODO TODO '''\n",
    "            \n",
    "            ''' TODO TODO TODO TODO TODO TODO TODO TODO TODO '''\n",
    "            #   4. create a new individual with that phenotype or modify the existing individual's phenotype at that point\n",
    "            ''' TODO TODO TODO TODO TODO TODO TODO TODO TODO '''\n",
    "            #   5. replace the old individual by the new one (ONLY if we created a new individual in 4.)\n",
    "            new_individual = population[i]\n",
    "            ''' TODO TODO TODO TODO TODO TODO TODO TODO TODO '''\n",
    "    \n",
    "    return population"
   ]
  },
  {
   "cell_type": "markdown",
   "id": "environmental-immune",
   "metadata": {},
   "source": [
    "## Specific methods for performing selection, crossover, mutation\n",
    "\n",
    "In this section, a number of specific functions will be defined for performing the selection, crossover or mutation steps of the generic genetic algorithm framework above.\n",
    "\n",
    "The following aspects have functions defined for them:\n",
    "- Selecting an individual from a given population:\n",
    "\n",
    "    This can be used in the **selection** step, for selecting individuals from one generation to keep in the next.\n",
    "    \n",
    "    But it can also be used in the **crossover** step, for selecting individuals as parents to reproduce.\n",
    "    \n",
    "    The following methods are available as of now:\n",
    "    - select_individual_uniform_proba\n",
    "    - select_individual_roulette_wheel\n",
    "    \n",
    "- Performing a crossover based on two individuals provided as parents:\n",
    "\n",
    "    This is used only in the **crossover** step, to actually perform the crossover.\n",
    "    \n",
    "    The following methods are available as of now:\n",
    "    - crossover_single_uniform_proba\n",
    "\n",
    "- Performing a mutation, given a individual to mutate:\n",
    "\n",
    "    This is used in the **mutation** step only, to perform the mutation.\n",
    "    \n",
    "    The following methods are available as of now:\n",
    "    - **TODO**"
   ]
  },
  {
   "cell_type": "code",
   "execution_count": 208,
   "id": "induced-printer",
   "metadata": {},
   "outputs": [
    {
     "name": "stderr",
     "output_type": "stream",
     "text": [
      "<>:105: SyntaxWarning: assertion is always true, perhaps remove parentheses?\n",
      "<>:105: SyntaxWarning: assertion is always true, perhaps remove parentheses?\n",
      "<>:105: SyntaxWarning: assertion is always true, perhaps remove parentheses?\n",
      "<ipython-input-208-a1fc07f61cc4>:105: SyntaxWarning: assertion is always true, perhaps remove parentheses?\n",
      "  assert(start_size_population <= final_size_population, \"The population needs to be smaller than it should be after crossover\")\n"
     ]
    }
   ],
   "source": [
    "def select_individual_uniform_proba(population):\n",
    "    ''' Choose and return an individual from the given population.\n",
    "        The individual is chosen using uniform probability\n",
    "    \n",
    "        params: \n",
    "            population: the population of individuals to chose an individual from\n",
    "        \n",
    "        return:\n",
    "            an individual chosen from the given population\n",
    "    '''\n",
    "    return np.random.choice(population)\n",
    "\n",
    "def select_individual_roulette_wheel(population):\n",
    "    ''' Choose and return an individual from the given population.\n",
    "        The individual is chosen using the roulette wheel selection approach\n",
    "    \n",
    "        params: \n",
    "            population: the population of individuals to chose an individual from\n",
    "        \n",
    "        return:\n",
    "            an individual chosen from the given population\n",
    "    '''\n",
    "    #Fitness scores\n",
    "    fitness_scores = [individual.get_fitness() for individual in population]\n",
    "    #Total sum of fitness scores\n",
    "    sum_fitness_scores =  sum([individual.get_fitness() for individual in population])\n",
    "    #Create distribution\n",
    "    dist = fitness_scores / sum_fitness_scores\n",
    "    \n",
    "    return np.random.choice(population, p = dist)\n",
    "\n",
    "\n",
    "def crossover_single_uniform_crossover(parent1, parent2, crossover_proba=0.5):\n",
    "    ''' Create a new child using parents individual1 and individual2.\n",
    "        This version of crossover_single() uses uniform crossover.\n",
    "    \n",
    "        params:\n",
    "            parent1: one parent of the new child\n",
    "            parent2: the other parent of the new child\n",
    "            crossover_proba: the probability of swapping an element of parent1 with an element of parent2 \n",
    "        \n",
    "        return:\n",
    "            a new individual\n",
    "    '''\n",
    "    # Retrieve the phenotypes of the two parents\n",
    "    phenotype1 = parent1.get_phenotype()\n",
    "    phenotype2 = parent2.get_phenotype()\n",
    "    \n",
    "    # Perform the uniform crossover\n",
    "    for i in range(len(phenotype1)):\n",
    "        random_num = np.random.rand()\n",
    "        \n",
    "        # If the random number is larger than a certain probability (50 %) then we swap the values\n",
    "        if random_num <= crossover_proba:\n",
    "            # Swap the values at that index\n",
    "            temp = phenotype1[i]\n",
    "            phenotype1[i] = phenotype2[i]\n",
    "            phenotype2[i] = temp\n",
    "    \n",
    "    # Finally, generate a new individual of the same class as the original individuals, by using the phenotype\n",
    "    child = type(parent1)(phenotype=phenotype1)\n",
    "    \n",
    "    return child\n",
    "\n",
    "def select_mutation_index_uniform_proba(phenotype):\n",
    "    ''' Select an index in the phenotype to mutate.\n",
    "        This version uses an uniform probability for each index.\n",
    "        \n",
    "        params:\n",
    "            phenotype: the list that will be mutated\n",
    "    '''\n",
    "    return np.random.randint(len(phenotype))"
   ]
  },
  {
   "cell_type": "markdown",
   "id": "lonely-intro",
   "metadata": {},
   "source": [
    "### Knapsack problem implementation"
   ]
  },
  {
   "cell_type": "code",
   "execution_count": 46,
   "id": "continuing-portuguese",
   "metadata": {},
   "outputs": [],
   "source": [
    "class KnapsackProblem:\n",
    "    def __init__(self,n, maximum_weight):\n",
    "        ''' Initialize any needed variables\n",
    "        \n",
    "            params:\n",
    "                n: number of items for the knapsack problem \n",
    "                maximum_weight: maximum weight that the bag contains\n",
    "        '''\n",
    "        #Initiliase maximum allowed weight\n",
    "        self.maximum_weight = maximum_weight\n",
    "        #Initialise items\n",
    "        self.n = n\n",
    "        #Initialise weights\n",
    "        self.weights = []\n",
    "        for i in range(self.n):\n",
    "            self.weights.append(np.random.choice(np.arange(10)+1))\n",
    "        #Initialise rewards\n",
    "        self.rewards = np.arange(self.n) + 1   \n",
    "    \n",
    "    #Return rewards\n",
    "    def get_rewards(self):\n",
    "        return self.rewards\n",
    "    \n",
    "    #Return Weights\n",
    "    def get_weights(self):\n",
    "        return self.weights"
   ]
  },
  {
   "cell_type": "code",
   "execution_count": 180,
   "id": "front-survey",
   "metadata": {},
   "outputs": [],
   "source": [
    "class KnapsackIndividual:\n",
    "    \n",
    "    def __init__(self, knapsackproblem, phenotype = None):            # if needed, add more parameters\n",
    "        ''' Initialize any needed variables\n",
    "        \n",
    "            params:\n",
    "                phenotype: a phenotype value that we want to set the individual to\n",
    "                knapsackproblem: The knapsack problem that the individual exists\n",
    "        '''\n",
    "        #Initiliase problem\n",
    "        self.knapsackproblem = knapsackproblem\n",
    "        \n",
    "        #Create and initialise genotype randomly\n",
    "        self.genotype = \"\"\n",
    "        for i in range(knapsackproblem.n):\n",
    "            self.genotype += str(np.random.choice(np.arange(2)))\n",
    "        \n",
    "    def get_phenotype(self):\n",
    "        ''' Return the phenotype of this individual as a list type object\n",
    "        '''\n",
    "        return [char for char in self.genotype]\n",
    "    \n",
    "    \n",
    "    def is_legal(self):\n",
    "        ''' Return the legality of the individual(weight)\n",
    "        '''\n",
    "        #Find the total weight of the individual \n",
    "        phenotype = self.get_phenotype()\n",
    "        #Keep track of the total weight and total reward of the individual\n",
    "        total_individual_weight = 0\n",
    "        for i in range(len(phenotype)):\n",
    "            if(phenotype[i] == \"1\"):\n",
    "                total_individual_weight += (self.knapsackproblem.get_weights()[i])\n",
    "        #Check for legality\n",
    "        if total_individual_weight > (self.knapsackproblem.maximum_weight):\n",
    "            return False;\n",
    "        else:\n",
    "            return True;\n",
    "    \n",
    "    def get_reward(self):\n",
    "        ''' Return the total reward of this individual\n",
    "        '''\n",
    "        #Find the total weight of the individual \n",
    "        phenotype = self.get_phenotype()\n",
    "        #Total reward\n",
    "        total_individual_reward = 0\n",
    "        for i in range(len(phenotype)):\n",
    "            if(phenotype[i] == \"1\"):\n",
    "                total_individual_reward += (self.knapsackproblem.get_rewards()[i])\n",
    "        return total_individual_reward\n",
    "        \n",
    "    def get_fitness(self):\n",
    "        ''' Return the fitness score of this individual as a float\n",
    "        '''\n",
    "        if self.is_legal() == False:\n",
    "            return 0;\n",
    "        else:\n",
    "            return self.get_reward();"
   ]
  },
  {
   "cell_type": "code",
   "execution_count": 192,
   "id": "played-collective",
   "metadata": {},
   "outputs": [],
   "source": [
    "population = []\n",
    "population_size = 100 # POPULATION SIZE CAN BE CHANGED HERE\n",
    "for i in range(population_size):\n",
    "    population.append(KnapsackIndividual(KnapsackProblem(10,40)))\n",
    "\n",
    "# Use generic genetic algorithm with this"
   ]
  },
  {
   "cell_type": "code",
   "execution_count": 204,
   "id": "literary-tiger",
   "metadata": {},
   "outputs": [
    {
     "data": {
      "text/plain": [
       "2315"
      ]
     },
     "execution_count": 204,
     "metadata": {},
     "output_type": "execute_result"
    }
   ],
   "source": []
  },
  {
   "cell_type": "code",
   "execution_count": 200,
   "id": "different-bruce",
   "metadata": {},
   "outputs": [
    {
     "data": {
      "text/plain": [
       "30"
      ]
     },
     "execution_count": 200,
     "metadata": {},
     "output_type": "execute_result"
    }
   ],
   "source": [
    "population[1].get_fitness()"
   ]
  },
  {
   "cell_type": "code",
   "execution_count": 193,
   "id": "elect-sydney",
   "metadata": {},
   "outputs": [],
   "source": [
    "fitness_scores = []\n",
    "for individual in population:\n",
    "    fitness_scores.append(individual.get_fitness())"
   ]
  },
  {
   "cell_type": "code",
   "execution_count": 185,
   "id": "obvious-brave",
   "metadata": {},
   "outputs": [
    {
     "data": {
      "text/plain": [
       "(array([14.,  1.,  2.,  8., 15., 15., 15., 12., 10.,  8.]),\n",
       " array([ 0. ,  4.3,  8.6, 12.9, 17.2, 21.5, 25.8, 30.1, 34.4, 38.7, 43. ]),\n",
       " <a list of 10 Patch objects>)"
      ]
     },
     "execution_count": 185,
     "metadata": {},
     "output_type": "execute_result"
    },
    {
     "data": {
      "image/png": "[encoded data removed]",
      "text/plain": [
       "<Figure size 432x288 with 1 Axes>"
      ]
     },
     "metadata": {
      "needs_background": "light"
     },
     "output_type": "display_data"
    }
   ],
   "source": [
    "plt.hist(fitness_scores)"
   ]
  },
  {
   "cell_type": "markdown",
   "id": "pleasant-cache",
   "metadata": {},
   "source": [
    "### Travelling salesman problem"
   ]
  },
  {
   "cell_type": "code",
   "execution_count": null,
   "id": "killing-bristol",
   "metadata": {},
   "outputs": [],
   "source": [
    "class TSPInvididual:\n",
    "    def __init__(self, phenotype=None):             # if needed, add more parameters\n",
    "        ''' Initialize any needed variables\n",
    "        \n",
    "            params:\n",
    "                phenotype: a phenotype value that we want to set the individual to\n",
    "        '''\n",
    "        pass\n",
    "    \n",
    "    def get_phenotype(self):\n",
    "        ''' Return the phenotype of this individual as a list type object\n",
    "        '''\n",
    "        pass\n",
    "    \n",
    "    def get_fitness(self):\n",
    "        ''' Return the fitness score of this individual as a float\n",
    "        '''\n",
    "        pass"
   ]
  },
  {
   "cell_type": "code",
   "execution_count": null,
   "id": "naughty-motivation",
   "metadata": {},
   "outputs": [],
   "source": []
  }
 ],
 "metadata": {
  "kernelspec": {
   "display_name": "Python 3",
   "language": "python",
   "name": "python3"
  },
  "language_info": {
   "codemirror_mode": {
    "name": "ipython",
    "version": 3
   },
   "file_extension": ".py",
   "mimetype": "text/x-python",
   "name": "python",
   "nbconvert_exporter": "python",
   "pygments_lexer": "ipython3",
   "version": "3.7.4"
  }
 },
 "nbformat": 4,
 "nbformat_minor": 5
}
